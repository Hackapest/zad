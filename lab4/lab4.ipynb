{
 "cells": [
  {
   "cell_type": "markdown",
   "metadata": {},
   "source": [
    "<center><h2>Лабораторна робота 4<h2></center>\n",
    "Виконав: ФБ-21 Новіцький Олександр"
   ]
  },
  {
   "cell_type": "code",
   "execution_count": 2,
   "metadata": {},
   "outputs": [],
   "source": [
    "import pandas as pd\n",
    "import numpy as np\n",
    "import timeit as tt\n",
    "import datetime as dt"
   ]
  },
  {
   "cell_type": "code",
   "execution_count": 3,
   "metadata": {},
   "outputs": [],
   "source": [
    "pandas_time = []\n",
    "numpy_time = []"
   ]
  },
  {
   "cell_type": "code",
   "execution_count": 4,
   "metadata": {},
   "outputs": [
    {
     "name": "stdout",
     "output_type": "stream",
     "text": [
      "2.6235135360000186\n"
     ]
    },
    {
     "name": "stderr",
     "output_type": "stream",
     "text": [
      "/tmp/ipykernel_13264/1259816714.py:2: DtypeWarning: Columns (2,3,4,5,6,7) have mixed types. Specify dtype option on import or set low_memory=False.\n",
      "  df = pd.read_csv('household_power_consumption.txt', sep=';')\n"
     ]
    },
    {
     "data": {
      "text/html": [
       "<div>\n",
       "<style scoped>\n",
       "    .dataframe tbody tr th:only-of-type {\n",
       "        vertical-align: middle;\n",
       "    }\n",
       "\n",
       "    .dataframe tbody tr th {\n",
       "        vertical-align: top;\n",
       "    }\n",
       "\n",
       "    .dataframe thead th {\n",
       "        text-align: right;\n",
       "    }\n",
       "</style>\n",
       "<table border=\"1\" class=\"dataframe\">\n",
       "  <thead>\n",
       "    <tr style=\"text-align: right;\">\n",
       "      <th></th>\n",
       "      <th>Date</th>\n",
       "      <th>Time</th>\n",
       "      <th>Global_active_power</th>\n",
       "      <th>Global_reactive_power</th>\n",
       "      <th>Voltage</th>\n",
       "      <th>Global_intensity</th>\n",
       "      <th>Sub_metering_1</th>\n",
       "      <th>Sub_metering_2</th>\n",
       "      <th>Sub_metering_3</th>\n",
       "    </tr>\n",
       "  </thead>\n",
       "  <tbody>\n",
       "    <tr>\n",
       "      <th>0</th>\n",
       "      <td>16/12/2006</td>\n",
       "      <td>17:24:00</td>\n",
       "      <td>4.216</td>\n",
       "      <td>0.418</td>\n",
       "      <td>234.840</td>\n",
       "      <td>18.400</td>\n",
       "      <td>0.000</td>\n",
       "      <td>1.000</td>\n",
       "      <td>17.0</td>\n",
       "    </tr>\n",
       "    <tr>\n",
       "      <th>1</th>\n",
       "      <td>16/12/2006</td>\n",
       "      <td>17:25:00</td>\n",
       "      <td>5.360</td>\n",
       "      <td>0.436</td>\n",
       "      <td>233.630</td>\n",
       "      <td>23.000</td>\n",
       "      <td>0.000</td>\n",
       "      <td>1.000</td>\n",
       "      <td>16.0</td>\n",
       "    </tr>\n",
       "    <tr>\n",
       "      <th>2</th>\n",
       "      <td>16/12/2006</td>\n",
       "      <td>17:26:00</td>\n",
       "      <td>5.374</td>\n",
       "      <td>0.498</td>\n",
       "      <td>233.290</td>\n",
       "      <td>23.000</td>\n",
       "      <td>0.000</td>\n",
       "      <td>2.000</td>\n",
       "      <td>17.0</td>\n",
       "    </tr>\n",
       "    <tr>\n",
       "      <th>3</th>\n",
       "      <td>16/12/2006</td>\n",
       "      <td>17:27:00</td>\n",
       "      <td>5.388</td>\n",
       "      <td>0.502</td>\n",
       "      <td>233.740</td>\n",
       "      <td>23.000</td>\n",
       "      <td>0.000</td>\n",
       "      <td>1.000</td>\n",
       "      <td>17.0</td>\n",
       "    </tr>\n",
       "    <tr>\n",
       "      <th>4</th>\n",
       "      <td>16/12/2006</td>\n",
       "      <td>17:28:00</td>\n",
       "      <td>3.666</td>\n",
       "      <td>0.528</td>\n",
       "      <td>235.680</td>\n",
       "      <td>15.800</td>\n",
       "      <td>0.000</td>\n",
       "      <td>1.000</td>\n",
       "      <td>17.0</td>\n",
       "    </tr>\n",
       "  </tbody>\n",
       "</table>\n",
       "</div>"
      ],
      "text/plain": [
       "         Date      Time Global_active_power Global_reactive_power  Voltage  \\\n",
       "0  16/12/2006  17:24:00               4.216                 0.418  234.840   \n",
       "1  16/12/2006  17:25:00               5.360                 0.436  233.630   \n",
       "2  16/12/2006  17:26:00               5.374                 0.498  233.290   \n",
       "3  16/12/2006  17:27:00               5.388                 0.502  233.740   \n",
       "4  16/12/2006  17:28:00               3.666                 0.528  235.680   \n",
       "\n",
       "  Global_intensity Sub_metering_1 Sub_metering_2  Sub_metering_3  \n",
       "0           18.400          0.000          1.000            17.0  \n",
       "1           23.000          0.000          1.000            16.0  \n",
       "2           23.000          0.000          2.000            17.0  \n",
       "3           23.000          0.000          1.000            17.0  \n",
       "4           15.800          0.000          1.000            17.0  "
      ]
     },
     "execution_count": 4,
     "metadata": {},
     "output_type": "execute_result"
    }
   ],
   "source": [
    "starttime = tt.default_timer()\n",
    "df = pd.read_csv('household_power_consumption.txt', sep=';')\n",
    "print(tt.default_timer()-starttime)\n",
    "df.head()"
   ]
  },
  {
   "cell_type": "markdown",
   "metadata": {},
   "source": [
    "Data cleaning"
   ]
  },
  {
   "cell_type": "code",
   "execution_count": 5,
   "metadata": {},
   "outputs": [
    {
     "name": "stdout",
     "output_type": "stream",
     "text": [
      "8.633016537999993\n"
     ]
    }
   ],
   "source": [
    "starttime = tt.default_timer()\n",
    "\n",
    "df.drop(df[df.eq('?').any(axis=1)].index, inplace=True)\n",
    "\n",
    "columns = ['Global_active_power', 'Global_reactive_power', 'Voltage', 'Global_intensity', 'Sub_metering_1', 'Sub_metering_2', 'Sub_metering_3']\n",
    "df[columns] = df[columns].astype(float)\n",
    "df['Date'] = pd.to_datetime(df['Date'], format='%d/%m/%Y')\n",
    "df['Time'] = pd.to_datetime(df['Time'], format='%H:%M:%S').dt.time\n",
    "\n",
    "print(tt.default_timer()-starttime)"
   ]
  },
  {
   "cell_type": "markdown",
   "metadata": {},
   "source": [
    "1. Обрати всі домогосподарства, у яких загальна активна споживана потужність перевищує 5 кВт"
   ]
  },
  {
   "cell_type": "code",
   "execution_count": 6,
   "metadata": {},
   "outputs": [
    {
     "name": "stdout",
     "output_type": "stream",
     "text": [
      "0.011560693999854266\n"
     ]
    },
    {
     "data": {
      "text/html": [
       "<div>\n",
       "<style scoped>\n",
       "    .dataframe tbody tr th:only-of-type {\n",
       "        vertical-align: middle;\n",
       "    }\n",
       "\n",
       "    .dataframe tbody tr th {\n",
       "        vertical-align: top;\n",
       "    }\n",
       "\n",
       "    .dataframe thead th {\n",
       "        text-align: right;\n",
       "    }\n",
       "</style>\n",
       "<table border=\"1\" class=\"dataframe\">\n",
       "  <thead>\n",
       "    <tr style=\"text-align: right;\">\n",
       "      <th></th>\n",
       "      <th>Date</th>\n",
       "      <th>Time</th>\n",
       "      <th>Global_active_power</th>\n",
       "      <th>Global_reactive_power</th>\n",
       "      <th>Voltage</th>\n",
       "      <th>Global_intensity</th>\n",
       "      <th>Sub_metering_1</th>\n",
       "      <th>Sub_metering_2</th>\n",
       "      <th>Sub_metering_3</th>\n",
       "    </tr>\n",
       "  </thead>\n",
       "  <tbody>\n",
       "    <tr>\n",
       "      <th>1</th>\n",
       "      <td>2006-12-16</td>\n",
       "      <td>17:25:00</td>\n",
       "      <td>5.360</td>\n",
       "      <td>0.436</td>\n",
       "      <td>233.63</td>\n",
       "      <td>23.0</td>\n",
       "      <td>0.0</td>\n",
       "      <td>1.0</td>\n",
       "      <td>16.0</td>\n",
       "    </tr>\n",
       "    <tr>\n",
       "      <th>2</th>\n",
       "      <td>2006-12-16</td>\n",
       "      <td>17:26:00</td>\n",
       "      <td>5.374</td>\n",
       "      <td>0.498</td>\n",
       "      <td>233.29</td>\n",
       "      <td>23.0</td>\n",
       "      <td>0.0</td>\n",
       "      <td>2.0</td>\n",
       "      <td>17.0</td>\n",
       "    </tr>\n",
       "    <tr>\n",
       "      <th>3</th>\n",
       "      <td>2006-12-16</td>\n",
       "      <td>17:27:00</td>\n",
       "      <td>5.388</td>\n",
       "      <td>0.502</td>\n",
       "      <td>233.74</td>\n",
       "      <td>23.0</td>\n",
       "      <td>0.0</td>\n",
       "      <td>1.0</td>\n",
       "      <td>17.0</td>\n",
       "    </tr>\n",
       "    <tr>\n",
       "      <th>11</th>\n",
       "      <td>2006-12-16</td>\n",
       "      <td>17:35:00</td>\n",
       "      <td>5.412</td>\n",
       "      <td>0.470</td>\n",
       "      <td>232.78</td>\n",
       "      <td>23.2</td>\n",
       "      <td>0.0</td>\n",
       "      <td>1.0</td>\n",
       "      <td>17.0</td>\n",
       "    </tr>\n",
       "    <tr>\n",
       "      <th>12</th>\n",
       "      <td>2006-12-16</td>\n",
       "      <td>17:36:00</td>\n",
       "      <td>5.224</td>\n",
       "      <td>0.478</td>\n",
       "      <td>232.99</td>\n",
       "      <td>22.4</td>\n",
       "      <td>0.0</td>\n",
       "      <td>1.0</td>\n",
       "      <td>16.0</td>\n",
       "    </tr>\n",
       "  </tbody>\n",
       "</table>\n",
       "</div>"
      ],
      "text/plain": [
       "         Date      Time  Global_active_power  Global_reactive_power  Voltage  \\\n",
       "1  2006-12-16  17:25:00                5.360                  0.436   233.63   \n",
       "2  2006-12-16  17:26:00                5.374                  0.498   233.29   \n",
       "3  2006-12-16  17:27:00                5.388                  0.502   233.74   \n",
       "11 2006-12-16  17:35:00                5.412                  0.470   232.78   \n",
       "12 2006-12-16  17:36:00                5.224                  0.478   232.99   \n",
       "\n",
       "    Global_intensity  Sub_metering_1  Sub_metering_2  Sub_metering_3  \n",
       "1               23.0             0.0             1.0            16.0  \n",
       "2               23.0             0.0             2.0            17.0  \n",
       "3               23.0             0.0             1.0            17.0  \n",
       "11              23.2             0.0             1.0            17.0  \n",
       "12              22.4             0.0             1.0            16.0  "
      ]
     },
     "execution_count": 6,
     "metadata": {},
     "output_type": "execute_result"
    }
   ],
   "source": [
    "starttime = tt.default_timer()\n",
    "households_over_5kw = df[df['Global_active_power'] > 5]\n",
    "pandas_time.append(tt.default_timer()-starttime)\n",
    "print(tt.default_timer()-starttime)\n",
    "\n",
    "households_over_5kw.head()"
   ]
  },
  {
   "cell_type": "markdown",
   "metadata": {},
   "source": [
    "2. Обрати всі домогосподарства, у яких вольтаж перевищую 235 В"
   ]
  },
  {
   "cell_type": "code",
   "execution_count": 7,
   "metadata": {},
   "outputs": [
    {
     "name": "stdout",
     "output_type": "stream",
     "text": [
      "0.19076026199991247\n"
     ]
    },
    {
     "data": {
      "text/html": [
       "<div>\n",
       "<style scoped>\n",
       "    .dataframe tbody tr th:only-of-type {\n",
       "        vertical-align: middle;\n",
       "    }\n",
       "\n",
       "    .dataframe tbody tr th {\n",
       "        vertical-align: top;\n",
       "    }\n",
       "\n",
       "    .dataframe thead th {\n",
       "        text-align: right;\n",
       "    }\n",
       "</style>\n",
       "<table border=\"1\" class=\"dataframe\">\n",
       "  <thead>\n",
       "    <tr style=\"text-align: right;\">\n",
       "      <th></th>\n",
       "      <th>Date</th>\n",
       "      <th>Time</th>\n",
       "      <th>Global_active_power</th>\n",
       "      <th>Global_reactive_power</th>\n",
       "      <th>Voltage</th>\n",
       "      <th>Global_intensity</th>\n",
       "      <th>Sub_metering_1</th>\n",
       "      <th>Sub_metering_2</th>\n",
       "      <th>Sub_metering_3</th>\n",
       "    </tr>\n",
       "  </thead>\n",
       "  <tbody>\n",
       "    <tr>\n",
       "      <th>4</th>\n",
       "      <td>2006-12-16</td>\n",
       "      <td>17:28:00</td>\n",
       "      <td>3.666</td>\n",
       "      <td>0.528</td>\n",
       "      <td>235.68</td>\n",
       "      <td>15.8</td>\n",
       "      <td>0.0</td>\n",
       "      <td>1.0</td>\n",
       "      <td>17.0</td>\n",
       "    </tr>\n",
       "    <tr>\n",
       "      <th>5</th>\n",
       "      <td>2006-12-16</td>\n",
       "      <td>17:29:00</td>\n",
       "      <td>3.520</td>\n",
       "      <td>0.522</td>\n",
       "      <td>235.02</td>\n",
       "      <td>15.0</td>\n",
       "      <td>0.0</td>\n",
       "      <td>2.0</td>\n",
       "      <td>17.0</td>\n",
       "    </tr>\n",
       "    <tr>\n",
       "      <th>6</th>\n",
       "      <td>2006-12-16</td>\n",
       "      <td>17:30:00</td>\n",
       "      <td>3.702</td>\n",
       "      <td>0.520</td>\n",
       "      <td>235.09</td>\n",
       "      <td>15.8</td>\n",
       "      <td>0.0</td>\n",
       "      <td>1.0</td>\n",
       "      <td>17.0</td>\n",
       "    </tr>\n",
       "    <tr>\n",
       "      <th>7</th>\n",
       "      <td>2006-12-16</td>\n",
       "      <td>17:31:00</td>\n",
       "      <td>3.700</td>\n",
       "      <td>0.520</td>\n",
       "      <td>235.22</td>\n",
       "      <td>15.8</td>\n",
       "      <td>0.0</td>\n",
       "      <td>1.0</td>\n",
       "      <td>17.0</td>\n",
       "    </tr>\n",
       "    <tr>\n",
       "      <th>14</th>\n",
       "      <td>2006-12-16</td>\n",
       "      <td>17:38:00</td>\n",
       "      <td>4.054</td>\n",
       "      <td>0.422</td>\n",
       "      <td>235.24</td>\n",
       "      <td>17.6</td>\n",
       "      <td>0.0</td>\n",
       "      <td>1.0</td>\n",
       "      <td>17.0</td>\n",
       "    </tr>\n",
       "  </tbody>\n",
       "</table>\n",
       "</div>"
      ],
      "text/plain": [
       "         Date      Time  Global_active_power  Global_reactive_power  Voltage  \\\n",
       "4  2006-12-16  17:28:00                3.666                  0.528   235.68   \n",
       "5  2006-12-16  17:29:00                3.520                  0.522   235.02   \n",
       "6  2006-12-16  17:30:00                3.702                  0.520   235.09   \n",
       "7  2006-12-16  17:31:00                3.700                  0.520   235.22   \n",
       "14 2006-12-16  17:38:00                4.054                  0.422   235.24   \n",
       "\n",
       "    Global_intensity  Sub_metering_1  Sub_metering_2  Sub_metering_3  \n",
       "4               15.8             0.0             1.0            17.0  \n",
       "5               15.0             0.0             2.0            17.0  \n",
       "6               15.8             0.0             1.0            17.0  \n",
       "7               15.8             0.0             1.0            17.0  \n",
       "14              17.6             0.0             1.0            17.0  "
      ]
     },
     "execution_count": 7,
     "metadata": {},
     "output_type": "execute_result"
    }
   ],
   "source": [
    "starttime = tt.default_timer()\n",
    "voltage_over_235v = df[df['Voltage'] > 235]\n",
    "pandas_time.append(tt.default_timer()-starttime)\n",
    "print(tt.default_timer()-starttime)\n",
    "\n",
    "voltage_over_235v.head()"
   ]
  },
  {
   "cell_type": "markdown",
   "metadata": {},
   "source": [
    "3. Обрати всі домогосподарства, у яких сила струму лежить в межах 19-20 А, для них виявити ті, у яких пральна машина та холодильни споживають більше, ніж бойлер та кон."
   ]
  },
  {
   "cell_type": "code",
   "execution_count": 8,
   "metadata": {},
   "outputs": [
    {
     "name": "stdout",
     "output_type": "stream",
     "text": [
      "0.01803146099996411\n"
     ]
    },
    {
     "data": {
      "text/html": [
       "<div>\n",
       "<style scoped>\n",
       "    .dataframe tbody tr th:only-of-type {\n",
       "        vertical-align: middle;\n",
       "    }\n",
       "\n",
       "    .dataframe tbody tr th {\n",
       "        vertical-align: top;\n",
       "    }\n",
       "\n",
       "    .dataframe thead th {\n",
       "        text-align: right;\n",
       "    }\n",
       "</style>\n",
       "<table border=\"1\" class=\"dataframe\">\n",
       "  <thead>\n",
       "    <tr style=\"text-align: right;\">\n",
       "      <th></th>\n",
       "      <th>Date</th>\n",
       "      <th>Time</th>\n",
       "      <th>Global_active_power</th>\n",
       "      <th>Global_reactive_power</th>\n",
       "      <th>Voltage</th>\n",
       "      <th>Global_intensity</th>\n",
       "      <th>Sub_metering_1</th>\n",
       "      <th>Sub_metering_2</th>\n",
       "      <th>Sub_metering_3</th>\n",
       "    </tr>\n",
       "  </thead>\n",
       "  <tbody>\n",
       "    <tr>\n",
       "      <th>45</th>\n",
       "      <td>2006-12-16</td>\n",
       "      <td>18:09:00</td>\n",
       "      <td>4.464</td>\n",
       "      <td>0.136</td>\n",
       "      <td>234.66</td>\n",
       "      <td>19.0</td>\n",
       "      <td>0.0</td>\n",
       "      <td>37.0</td>\n",
       "      <td>16.0</td>\n",
       "    </tr>\n",
       "    <tr>\n",
       "      <th>460</th>\n",
       "      <td>2006-12-17</td>\n",
       "      <td>01:04:00</td>\n",
       "      <td>4.582</td>\n",
       "      <td>0.258</td>\n",
       "      <td>238.08</td>\n",
       "      <td>19.6</td>\n",
       "      <td>0.0</td>\n",
       "      <td>13.0</td>\n",
       "      <td>0.0</td>\n",
       "    </tr>\n",
       "    <tr>\n",
       "      <th>464</th>\n",
       "      <td>2006-12-17</td>\n",
       "      <td>01:08:00</td>\n",
       "      <td>4.618</td>\n",
       "      <td>0.104</td>\n",
       "      <td>239.61</td>\n",
       "      <td>19.6</td>\n",
       "      <td>0.0</td>\n",
       "      <td>27.0</td>\n",
       "      <td>0.0</td>\n",
       "    </tr>\n",
       "    <tr>\n",
       "      <th>475</th>\n",
       "      <td>2006-12-17</td>\n",
       "      <td>01:19:00</td>\n",
       "      <td>4.636</td>\n",
       "      <td>0.140</td>\n",
       "      <td>237.37</td>\n",
       "      <td>19.4</td>\n",
       "      <td>0.0</td>\n",
       "      <td>36.0</td>\n",
       "      <td>0.0</td>\n",
       "    </tr>\n",
       "    <tr>\n",
       "      <th>476</th>\n",
       "      <td>2006-12-17</td>\n",
       "      <td>01:20:00</td>\n",
       "      <td>4.634</td>\n",
       "      <td>0.152</td>\n",
       "      <td>237.17</td>\n",
       "      <td>19.4</td>\n",
       "      <td>0.0</td>\n",
       "      <td>35.0</td>\n",
       "      <td>0.0</td>\n",
       "    </tr>\n",
       "  </tbody>\n",
       "</table>\n",
       "</div>"
      ],
      "text/plain": [
       "          Date      Time  Global_active_power  Global_reactive_power  Voltage  \\\n",
       "45  2006-12-16  18:09:00                4.464                  0.136   234.66   \n",
       "460 2006-12-17  01:04:00                4.582                  0.258   238.08   \n",
       "464 2006-12-17  01:08:00                4.618                  0.104   239.61   \n",
       "475 2006-12-17  01:19:00                4.636                  0.140   237.37   \n",
       "476 2006-12-17  01:20:00                4.634                  0.152   237.17   \n",
       "\n",
       "     Global_intensity  Sub_metering_1  Sub_metering_2  Sub_metering_3  \n",
       "45               19.0             0.0            37.0            16.0  \n",
       "460              19.6             0.0            13.0             0.0  \n",
       "464              19.6             0.0            27.0             0.0  \n",
       "475              19.4             0.0            36.0             0.0  \n",
       "476              19.4             0.0            35.0             0.0  "
      ]
     },
     "execution_count": 8,
     "metadata": {},
     "output_type": "execute_result"
    }
   ],
   "source": [
    "starttime = tt.default_timer()\n",
    "task3df = df[(df['Global_intensity'] >= 19) & (df['Global_intensity'] <= 20)]\n",
    "task3df = task3df[task3df['Sub_metering_2'] > task3df['Sub_metering_3']]\n",
    "pandas_time.append(tt.default_timer()-starttime)\n",
    "print(tt.default_timer()-starttime)\n",
    "\n",
    "task3df.head()"
   ]
  },
  {
   "cell_type": "markdown",
   "metadata": {},
   "source": [
    "4. Обрати випадковим чином 500000 домогосподарств (без повторів елементів вибірки), для них обчислити середні величини усіх 3-х груп споживання електричної енергіїї"
   ]
  },
  {
   "cell_type": "code",
   "execution_count": 9,
   "metadata": {},
   "outputs": [
    {
     "name": "stdout",
     "output_type": "stream",
     "text": [
      "0.3633687799999734\n",
      "sub_metering_1: 1.128708\n",
      "sub_metering_2: 1.297016\n",
      "sub_metering_3: 6.461868\n"
     ]
    }
   ],
   "source": [
    "starttime = tt.default_timer()\n",
    "\n",
    "random_entries = df.sample(n=500000, replace=True)\n",
    "\n",
    "sub_1 = random_entries['Sub_metering_1'].mean()\n",
    "sub_2 = random_entries['Sub_metering_2'].mean()\n",
    "sub_3 = random_entries['Sub_metering_3'].mean()\n",
    "\n",
    "pandas_time.append(tt.default_timer()-starttime)\n",
    "print(tt.default_timer()-starttime)\n",
    "\n",
    "print(\"sub_metering_1:\", sub_1)\n",
    "print(\"sub_metering_2:\", sub_2)\n",
    "print(\"sub_metering_3:\", sub_3)"
   ]
  },
  {
   "cell_type": "markdown",
   "metadata": {},
   "source": [
    "5. Обрати ті домогосподарства, які після 18-00 споживають понад 6 кВт за хвилину в середньому, серед відібраних визначити ті, у яких основне споживання електроенергії у вказаний проміжок часу припадає на пральну машину, сушарку, холодильник та освітлення (група 2 є найбільшою), а потім обрати кожен третій результат із першої половини та кожен четвертий результат із другоої полвини."
   ]
  },
  {
   "cell_type": "code",
   "execution_count": 10,
   "metadata": {},
   "outputs": [
    {
     "name": "stdout",
     "output_type": "stream",
     "text": [
      "0.12815015999990464\n"
     ]
    },
    {
     "data": {
      "text/html": [
       "<div>\n",
       "<style scoped>\n",
       "    .dataframe tbody tr th:only-of-type {\n",
       "        vertical-align: middle;\n",
       "    }\n",
       "\n",
       "    .dataframe tbody tr th {\n",
       "        vertical-align: top;\n",
       "    }\n",
       "\n",
       "    .dataframe thead th {\n",
       "        text-align: right;\n",
       "    }\n",
       "</style>\n",
       "<table border=\"1\" class=\"dataframe\">\n",
       "  <thead>\n",
       "    <tr style=\"text-align: right;\">\n",
       "      <th></th>\n",
       "      <th>Date</th>\n",
       "      <th>Time</th>\n",
       "      <th>Global_active_power</th>\n",
       "      <th>Global_reactive_power</th>\n",
       "      <th>Voltage</th>\n",
       "      <th>Global_intensity</th>\n",
       "      <th>Sub_metering_1</th>\n",
       "      <th>Sub_metering_2</th>\n",
       "      <th>Sub_metering_3</th>\n",
       "    </tr>\n",
       "  </thead>\n",
       "  <tbody>\n",
       "    <tr>\n",
       "      <th>43</th>\n",
       "      <td>2006-12-16</td>\n",
       "      <td>18:07:00</td>\n",
       "      <td>6.474</td>\n",
       "      <td>0.144</td>\n",
       "      <td>231.85</td>\n",
       "      <td>27.8</td>\n",
       "      <td>0.0</td>\n",
       "      <td>37.0</td>\n",
       "      <td>16.0</td>\n",
       "    </tr>\n",
       "    <tr>\n",
       "      <th>3007</th>\n",
       "      <td>2006-12-18</td>\n",
       "      <td>19:31:00</td>\n",
       "      <td>6.158</td>\n",
       "      <td>0.442</td>\n",
       "      <td>229.08</td>\n",
       "      <td>27.0</td>\n",
       "      <td>0.0</td>\n",
       "      <td>36.0</td>\n",
       "      <td>0.0</td>\n",
       "    </tr>\n",
       "    <tr>\n",
       "      <th>17497</th>\n",
       "      <td>2006-12-28</td>\n",
       "      <td>21:01:00</td>\n",
       "      <td>7.062</td>\n",
       "      <td>0.270</td>\n",
       "      <td>235.76</td>\n",
       "      <td>30.2</td>\n",
       "      <td>2.0</td>\n",
       "      <td>65.0</td>\n",
       "      <td>17.0</td>\n",
       "    </tr>\n",
       "    <tr>\n",
       "      <th>17500</th>\n",
       "      <td>2006-12-28</td>\n",
       "      <td>21:04:00</td>\n",
       "      <td>7.376</td>\n",
       "      <td>0.238</td>\n",
       "      <td>234.67</td>\n",
       "      <td>31.4</td>\n",
       "      <td>1.0</td>\n",
       "      <td>72.0</td>\n",
       "      <td>17.0</td>\n",
       "    </tr>\n",
       "    <tr>\n",
       "      <th>17503</th>\n",
       "      <td>2006-12-28</td>\n",
       "      <td>21:07:00</td>\n",
       "      <td>7.248</td>\n",
       "      <td>0.000</td>\n",
       "      <td>235.34</td>\n",
       "      <td>30.8</td>\n",
       "      <td>1.0</td>\n",
       "      <td>72.0</td>\n",
       "      <td>17.0</td>\n",
       "    </tr>\n",
       "  </tbody>\n",
       "</table>\n",
       "</div>"
      ],
      "text/plain": [
       "            Date      Time  Global_active_power  Global_reactive_power  \\\n",
       "43    2006-12-16  18:07:00                6.474                  0.144   \n",
       "3007  2006-12-18  19:31:00                6.158                  0.442   \n",
       "17497 2006-12-28  21:01:00                7.062                  0.270   \n",
       "17500 2006-12-28  21:04:00                7.376                  0.238   \n",
       "17503 2006-12-28  21:07:00                7.248                  0.000   \n",
       "\n",
       "       Voltage  Global_intensity  Sub_metering_1  Sub_metering_2  \\\n",
       "43      231.85              27.8             0.0            37.0   \n",
       "3007    229.08              27.0             0.0            36.0   \n",
       "17497   235.76              30.2             2.0            65.0   \n",
       "17500   234.67              31.4             1.0            72.0   \n",
       "17503   235.34              30.8             1.0            72.0   \n",
       "\n",
       "       Sub_metering_3  \n",
       "43               16.0  \n",
       "3007              0.0  \n",
       "17497            17.0  \n",
       "17500            17.0  \n",
       "17503            17.0  "
      ]
     },
     "execution_count": 10,
     "metadata": {},
     "output_type": "execute_result"
    }
   ],
   "source": [
    "starttime = tt.default_timer()\n",
    "\n",
    "filtered_df = df[(df['Time'] > pd.to_datetime('18:00:00').time()) & (df['Global_active_power'] > 6)]\n",
    "\n",
    "filtered_df = filtered_df[(filtered_df['Sub_metering_2'] > filtered_df['Sub_metering_1']) & (filtered_df['Sub_metering_2'] > filtered_df['Sub_metering_3'])]\n",
    "\n",
    "first_half = filtered_df.iloc[:len(filtered_df) // 2].iloc[2::3]\n",
    "second_half = filtered_df.iloc[len(filtered_df) // 2:].iloc[3::4]\n",
    "\n",
    "res = pd.concat([first_half, second_half])\n",
    "\n",
    "pandas_time.append(tt.default_timer()-starttime)\n",
    "print(tt.default_timer()-starttime)\n",
    "\n",
    "res.head()"
   ]
  },
  {
   "cell_type": "markdown",
   "metadata": {},
   "source": [
    "numpy array"
   ]
  },
  {
   "cell_type": "code",
   "execution_count": 11,
   "metadata": {},
   "outputs": [
    {
     "name": "stdout",
     "output_type": "stream",
     "text": [
      "[['16/12/2006' '17:24:00' '4.216' ... '0.000' '1.000' '17.000']\n",
      " ['16/12/2006' '17:25:00' '5.360' ... '0.000' '1.000' '16.000']\n",
      " ['16/12/2006' '17:26:00' '5.374' ... '0.000' '2.000' '17.000']\n",
      " ...\n",
      " ['26/11/2010' '21:00:00' '0.938' ... '0.000' '0.000' '0.000']\n",
      " ['26/11/2010' '21:01:00' '0.934' ... '0.000' '0.000' '0.000']\n",
      " ['26/11/2010' '21:02:00' '0.932' ... '0.000' '0.000' '0.000']]\n",
      "7.24104106499999\n"
     ]
    }
   ],
   "source": [
    "starttime = tt.default_timer()\n",
    "\n",
    "datanp = np.loadtxt(\"household_power_consumption.txt\",delimiter=\";\", dtype=str,skiprows=1)\n",
    "\n",
    "print(datanp)\n",
    "print(tt.default_timer()-starttime)"
   ]
  },
  {
   "cell_type": "code",
   "execution_count": 12,
   "metadata": {},
   "outputs": [],
   "source": [
    "datanp = np.delete(datanp,np.unique(np.where(datanp == '?')[0]),axis=0)\n",
    "\n",
    "\n",
    "for i in range(datanp.shape[0]):\n",
    "    right_f = dt.datetime.strptime(datanp[i,0],'%d/%m/%Y')\n",
    "    datanp[i,0] = np.datetime64(right_f)\n",
    "\n",
    "for i in range(datanp.shape[0]):\n",
    "    datanp[i,1] = datanp[i,1].split(\":\")[0]"
   ]
  },
  {
   "cell_type": "markdown",
   "metadata": {},
   "source": [
    "1. Обрати всі домогосподарства, у яких загальна активна споживана потужність перевищує 5 кВт"
   ]
  },
  {
   "cell_type": "code",
   "execution_count": 13,
   "metadata": {},
   "outputs": [
    {
     "name": "stdout",
     "output_type": "stream",
     "text": [
      "0.867003448000105\n",
      "[['2006-12-16' '17' '5.360' ... '0.000' '1.000' '16.000']\n",
      " ['2006-12-16' '17' '5.374' ... '0.000' '2.000' '17.000']\n",
      " ['2006-12-16' '17' '5.388' ... '0.000' '1.000' '17.000']\n",
      " ...\n",
      " ['2010-11-24' '07' '5.172' ... '0.000' '38.000' '17.000']\n",
      " ['2010-11-24' '07' '5.750' ... '0.000' '39.000' '17.000']\n",
      " ['2010-11-25' '07' '5.074' ... '1.000' '2.000' '18.000']]\n"
     ]
    }
   ],
   "source": [
    "starttime = tt.default_timer()\n",
    "\n",
    "households_over_5kw = datanp[datanp[:,2].astype(float)>5]\n",
    "\n",
    "numpy_time.append(tt.default_timer()-starttime)\n",
    "print(tt.default_timer()-starttime)\n",
    "\n",
    "print(households_over_5kw)"
   ]
  },
  {
   "cell_type": "markdown",
   "metadata": {},
   "source": [
    "2. Обрати всі домогосподарства, у яких вольтаж перевищую 235 В"
   ]
  },
  {
   "cell_type": "code",
   "execution_count": 14,
   "metadata": {},
   "outputs": [
    {
     "name": "stdout",
     "output_type": "stream",
     "text": [
      "1.4492773599999964\n",
      "[['2006-12-16' '17' '3.666' ... '0.000' '1.000' '17.000']\n",
      " ['2006-12-16' '17' '3.520' ... '0.000' '2.000' '17.000']\n",
      " ['2006-12-16' '17' '3.702' ... '0.000' '1.000' '17.000']\n",
      " ...\n",
      " ['2010-11-26' '21' '0.938' ... '0.000' '0.000' '0.000']\n",
      " ['2010-11-26' '21' '0.934' ... '0.000' '0.000' '0.000']\n",
      " ['2010-11-26' '21' '0.932' ... '0.000' '0.000' '0.000']]\n"
     ]
    }
   ],
   "source": [
    "starttime = tt.default_timer()\n",
    "\n",
    "voltage_over_235v = datanp[datanp[:,4].astype('float')>235]\n",
    "\n",
    "numpy_time.append(tt.default_timer()-starttime)\n",
    "print(tt.default_timer()-starttime)\n",
    "\n",
    "print(voltage_over_235v)"
   ]
  },
  {
   "cell_type": "markdown",
   "metadata": {},
   "source": [
    "3. Обрати всі домогосподарства, у яких сила струму лежить в межах 19-20 А, для них виявити ті, у яких пральна машина та холодильни споживають більше, ніж бойлер та кон."
   ]
  },
  {
   "cell_type": "code",
   "execution_count": 15,
   "metadata": {},
   "outputs": [
    {
     "name": "stdout",
     "output_type": "stream",
     "text": [
      "3.5388080980001178\n",
      "[['2006-12-16' '18' '4.928' ... '0.000' '37.000' '16.000']\n",
      " ['2006-12-16' '18' '6.052' ... '0.000' '37.000' '17.000']\n",
      " ['2006-12-16' '18' '6.752' ... '0.000' '36.000' '17.000']\n",
      " ...\n",
      " ['2010-11-26' '20' '0.948' ... '0.000' '1.000' '0.000']\n",
      " ['2010-11-26' '20' '1.198' ... '0.000' '1.000' '0.000']\n",
      " ['2010-11-26' '20' '1.024' ... '0.000' '1.000' '0.000']]\n"
     ]
    }
   ],
   "source": [
    "starttime = tt.default_timer()\n",
    "\n",
    "task3df = datanp[(datanp[:,5].astype('float')>19) & (datanp[:,5].astype('float')<20)]\n",
    "task3df = datanp[datanp[:,7].astype('float64')>datanp[:,8].astype('float64')]\n",
    "\n",
    "numpy_time.append(tt.default_timer()-starttime)\n",
    "print(tt.default_timer()-starttime)\n",
    "\n",
    "print(task3df)"
   ]
  },
  {
   "cell_type": "markdown",
   "metadata": {},
   "source": [
    "4. Обрати випадковим чином 500000 домогосподарств (без повторів елементів вибірки), для них обчислити середні величини усіх 3-х груп споживання електричної енергіїї"
   ]
  },
  {
   "cell_type": "code",
   "execution_count": 16,
   "metadata": {},
   "outputs": [
    {
     "name": "stdout",
     "output_type": "stream",
     "text": [
      "1.1383477079998556\n",
      "[0.         5.66666667 6.         ... 6.33333333 0.         0.        ]\n"
     ]
    }
   ],
   "source": [
    "starttime = tt.default_timer()\n",
    "\n",
    "indexes = np.random.choice(len(datanp), size=500000, replace=True, p=None)\n",
    "random = datanp[indexes,:]\n",
    "\n",
    "th_group = np.array([random[:,-1].astype('float'),random[:,-2].astype('float'),random[:,-3].astype('float')])\n",
    "av = np.average(th_group, 0)\n",
    "\n",
    "numpy_time.append(tt.default_timer()-starttime)\n",
    "print(tt.default_timer()-starttime)\n",
    "\n",
    "print(av)"
   ]
  },
  {
   "cell_type": "markdown",
   "metadata": {},
   "source": [
    "5. Обрати ті домогосподарства, які після 18-00 споживають понад 6 кВт за хвилину в середньому, серед відібраних визначити ті, у яких основне споживання електроенергії у вказаний проміжок часу припадає на пральну машину, сушарку, холодильник та освітлення (група 2 є найбільшою), а потім обрати кожен третій результат із першої половини та кожен четвертий результат із другоої полвини."
   ]
  },
  {
   "cell_type": "code",
   "execution_count": 17,
   "metadata": {},
   "outputs": [
    {
     "name": "stdout",
     "output_type": "stream",
     "text": [
      "1.6465054919999602\n",
      "[['2006-12-16' '18' '6.052' ... '0.000' '37.000' '17.000']\n",
      " ['2006-12-16' '18' '6.308' ... '0.000' '36.000' '17.000']\n",
      " ['2006-12-28' '20' '6.386' ... '1.000' '36.000' '17.000']\n",
      " ...\n",
      " ['2008-03-23' '20' '6.668' ... '0.000' '73.000' '17.000']\n",
      " ['2008-04-12' '18' '6.568' ... '34.000' '36.000' '18.000']\n",
      " ['2008-04-20' '21' '8.084' ... '1.000' '71.000' '18.000']]\n",
      "[['2008-04-20' '21' '7.798' ... '1.000' '71.000' '17.000']\n",
      " ['2008-04-20' '21' '7.452' ... '1.000' '68.000' '17.000']\n",
      " ['2008-04-20' '21' '6.436' ... '1.000' '37.000' '17.000']\n",
      " ...\n",
      " ['2010-11-20' '18' '6.302' ... '15.000' '34.000' '17.000']\n",
      " ['2010-11-20' '18' '6.238' ... '14.000' '35.000' '16.000']\n",
      " ['2010-11-20' '18' '6.438' ... '13.000' '39.000' '16.000']]\n"
     ]
    }
   ],
   "source": [
    "starttime = tt.default_timer()\n",
    "\n",
    "h18 = datanp[(datanp[:,1].astype('timedelta64')>=np.timedelta64(18,'h')) & (datanp[:,2].astype('float64')>6)]\n",
    "h182 = h18[(h18[:,-2].astype('float')>h18[:,-3].astype('float')) & (h18[:,-2].astype('float')>h18[:,-1].astype('float'))]\n",
    "\n",
    "n = round(len(h182)/2)\n",
    "res1 = (h182[:n,:])[::3,:]\n",
    "res2 = (h182[n:,:])[::4,:]\n",
    "\n",
    "numpy_time.append(tt.default_timer()-starttime)\n",
    "print(tt.default_timer()-starttime)\n",
    "\n",
    "print(res1)\n",
    "print(res2)"
   ]
  },
  {
   "cell_type": "code",
   "execution_count": 18,
   "metadata": {},
   "outputs": [
    {
     "name": "stdout",
     "output_type": "stream",
     "text": [
      "[0.011515741999801321, 0.190710147000118, 0.017990640999869356, 0.36332428799983063, 0.12806158599983064]\n",
      "[0.866839556000059, 1.4492383199999495, 3.5387645860000703, 1.1383051469999828, 1.6464794089999941]\n"
     ]
    }
   ],
   "source": [
    "print(pandas_time)\n",
    "print(numpy_time)"
   ]
  },
  {
   "cell_type": "markdown",
   "metadata": {},
   "source": [
    "Отже, використання Pandas DataFrame зазвичай призводить до швидшого виконання операцій порівняно з NumPy array."
   ]
  }
 ],
 "metadata": {
  "kernelspec": {
   "display_name": "venv3",
   "language": "python",
   "name": "python3"
  },
  "language_info": {
   "codemirror_mode": {
    "name": "ipython",
    "version": 3
   },
   "file_extension": ".py",
   "mimetype": "text/x-python",
   "name": "python",
   "nbconvert_exporter": "python",
   "pygments_lexer": "ipython3",
   "version": "3.11.8"
  }
 },
 "nbformat": 4,
 "nbformat_minor": 2
}
